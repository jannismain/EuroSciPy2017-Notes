{
 "cells": [
  {
   "cell_type": "markdown",
   "metadata": {},
   "source": [
    "# Main Conference Day 1"
   ]
  },
  {
   "cell_type": "markdown",
   "metadata": {},
   "source": [
    "## Introduction\n",
    "\n",
    "- 10th EuroSciPy (1st in Leipzig, since then in Paris, Brussels, …) "
   ]
  },
  {
   "cell_type": "markdown",
   "metadata": {},
   "source": [
    "## How to fix a scientific culture\n",
    "### Julia Rohrer\n",
    "\n",
    "**Problem**\n",
    "- 2011: Psychologists proves precognition (2 doors, random pictures behind one of them, candidates had to guess location -> 53.1% were right -> evidence for precognition)\n",
    "- Psychologists start to question their best practices\n",
    "    - p-hacking, Questionable research practices, noise mining, procedural overfitting\n",
    "    - Replication studies: 97% of original significant, 36% of Replication studies significant\n",
    "    - Replication is expensive -> statcheck\n",
    "    - The Wansink Dossier -> shows 150 numerical errors in only 4 studies (>4.000 citations)\n",
    "\n",
    "**Solutions**\n",
    "- Preregistration (peer reviewed, timestamped study design before execution)\n",
    "- Multiverse Analysis (try all the things)\n",
    "- Open Up (Sharing of Data, Methods, Software, Analysis Scripts -> OpenScience Framework)\n",
    "- …\n",
    "\n",
    "**The Natural Selection of Bad Science**\n",
    "- “When a measure becomes a target, it stops being a good measure”\n",
    "- Impact Measure, # of citations, … —> bad measures for good science\n",
    "- Grant Culture —> Alternative funding systems"
   ]
  },
  {
   "cell_type": "markdown",
   "metadata": {},
   "source": [
    "## WebAssembly\n",
    "\n",
    "- Speed-up of code, compared to traditional web languages (javascript)\n",
    "- Runs in browsers, pcs and phones"
   ]
  },
  {
   "cell_type": "markdown",
   "metadata": {},
   "source": [
    "## Arcas - Using Python to access open research literature [ [GitHub](https://github.com/ArcasProject/Arcas) | [Documentation](http://arcas.readthedocs.io/en/latest/Reference/index.html#) | ...]\n",
    "### Nikoleta E. Glynatsi [ [GitHub](https://github.com/Nikoleta-v3) | ...]\n",
    "\n",
    "- <span style=\"color:red\">*Automatically retrieve papers from arxiv, ieee, plos*</span>"
   ]
  },
  {
   "cell_type": "markdown",
   "metadata": {},
   "source": [
    "## Working with Audio Data in Python\n",
    "### Bastian Bechtold\n",
    "\n",
    "Audio Processing in Python is difficult\n",
    "- feeding audio data to sound card is very time sensitive\n",
    "\n",
    "He wrote his own package to deal with this issue"
   ]
  },
  {
   "cell_type": "markdown",
   "metadata": {
    "tags": [
     "layout",
     "break",
     "html"
    ]
   },
   "source": [
    "<div class=\"alert alert-success\">\n",
    "    <b>Lunch break</b>\n",
    "</div>"
   ]
  },
  {
   "cell_type": "markdown",
   "metadata": {},
   "source": [
    "## GeoPandas - geospatial data in Python made easy \n",
    "### Joris Van den Bossche\n",
    "\n",
    "#### Interesting Libraries/Packages:\n",
    "- GDAL (C)\n",
    "- GEOS (C)\n",
    "\n",
    "#### Content\n",
    "\n",
    "- Raster data vs. *Vector Data*\n",
    "- OGC Simple Features:\n",
    "    - Point, LineString, Polygon\n",
    "    - MultiPoint, MultiLineString, MultiPolygon\n",
    "    - GeometryCollection\n"
   ]
  },
  {
   "cell_type": "markdown",
   "metadata": {},
   "source": [
    "## Introduction into the ppci project \n",
    "### Windel Bouwman [ [BitBucket](https://www.bitbucket.org/windel) ]\n",
    "\n",
    "#### Interesting Libraries:\n",
    "- ppci [ [pypi](https://pypi.python.org/pypi/ppci/) ]\n",
    "\n",
    "#### Content:\n",
    "\n",
    "- Compiler Design\n",
    "- ppci: Compiler written in pure python\n",
    "- compile: python -> C -> x86 Assembly / ..."
   ]
  },
  {
   "cell_type": "markdown",
   "metadata": {
    "collapsed": true
   },
   "source": [
    "## Nbval: Testing Jupyter Notebooks\n",
    "### Thomas Kluyver"
   ]
  },
  {
   "cell_type": "code",
   "execution_count": 10,
   "metadata": {
    "tags": [
     "nbval-check-output"
    ]
   },
   "outputs": [
    {
     "name": "stdout",
     "output_type": "stream",
     "text": [
      "4\n"
     ]
    }
   ],
   "source": [
    "# annotations can be made through tags\n",
    "print(2+2)"
   ]
  },
  {
   "cell_type": "code",
   "execution_count": 11,
   "metadata": {
    "tags": [
     "nbval-ignore-output"
    ]
   },
   "outputs": [
    {
     "name": "stdout",
     "output_type": "stream",
     "text": [
      "2017-08-30\n"
     ]
    }
   ],
   "source": [
    "from datetime import date\n",
    "print(date.today())"
   ]
  },
  {
   "cell_type": "code",
   "execution_count": 22,
   "metadata": {},
   "outputs": [
    {
     "data": {
      "text/plain": [
       "0.8719000581305582"
      ]
     },
     "execution_count": 22,
     "metadata": {},
     "output_type": "execute_result"
    }
   ],
   "source": [
    "# Annotations can also be made through special comments\n",
    "#NBVAL_RAISES_EXCEPTION\n",
    "import random\n",
    "random.random()"
   ]
  },
  {
   "cell_type": "code",
   "execution_count": 21,
   "metadata": {},
   "outputs": [
    {
     "data": {
      "image/png": "[encoded data removed]",
      "text/plain": [
       "<matplotlib.figure.Figure at 0x10aa5fac8>"
      ]
     },
     "metadata": {},
     "output_type": "display_data"
    }
   ],
   "source": [
    "%matplotlib inline\n",
    "from matplotlib import pyplot as plt\n",
    "from random import random\n",
    "plot = plt.plot([0,1,2])"
   ]
  },
  {
   "cell_type": "markdown",
   "metadata": {},
   "source": [
    "## Testing the unknown: how to test scientific codes\n",
    "Alice Harpole ([Software Sustainability Institute](https://www.software.ac.uk))\n",
    "\n",
    "#### Why write tests\n",
    "- demonstrate, that procedure follows the scientific method (accuracy, reliability, ...)\n",
    "\n",
    "#### What to test\n",
    "- demonstrate, that software does what it is intended\n",
    "- limitations of implementation\n",
    "- Ensure, that results are reproducible\n",
    "- Issues:\n",
    "    - How to test when the output is unknown?\n",
    "    - How to test, when the function is very complex?\n",
    "\n",
    "#### How to test\n",
    "1. Unit Tests\n",
    "    - reduces complexity\n",
    "    - test parts before testing the whole thing\n",
    "    - test edge cases (cover entire parameter range)\n",
    "    - also test cases, where the function SHOULD break\n",
    "\n",
    "\n",
    "2. Integration Tests\n",
    "    - When parts work, then test the whole thing\n",
    "    \n",
    "\n",
    "3. Regression Tests\n",
    "    - check versions\n",
    "\n",
    "#### Science specific Issues\n",
    "\n",
    "- Unknown Output\n",
    "    - *Use Controls*: compare with something, that is known\n",
    "\n",
    "\n",
    "- Randomness\n",
    "    - *Isolate Random Parts through UnitTests* / *Check averages, limits, ... (sanity checks)*\n",
    "\n",
    "\n",
    "- Numerical Errors\n",
    "    - **"
   ]
  },
  {
   "cell_type": "code",
   "execution_count": null,
   "metadata": {
    "collapsed": true
   },
   "outputs": [],
   "source": []
  }
 ],
 "metadata": {
  "celltoolbar": "Tags",
  "kernelspec": {
   "display_name": "Python 3",
   "language": "python",
   "name": "python3"
  },
  "language_info": {
   "codemirror_mode": {
    "name": "ipython",
    "version": 3
   },
   "file_extension": ".py",
   "mimetype": "text/x-python",
   "name": "python",
   "nbconvert_exporter": "python",
   "pygments_lexer": "ipython3",
   "version": "3.6.2"
  }
 },
 "nbformat": 4,
 "nbformat_minor": 2
}
